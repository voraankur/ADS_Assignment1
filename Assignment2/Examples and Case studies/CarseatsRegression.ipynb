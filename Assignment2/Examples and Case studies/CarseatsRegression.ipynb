{
 "cells": [
  {
   "cell_type": "code",
   "execution_count": 14,
   "metadata": {
    "collapsed": false
   },
   "outputs": [
    {
     "name": "stderr",
     "output_type": "stream",
     "text": [
      "The following objects are masked from Carseats (pos = 3):\n",
      "\n",
      "    Advertising, Age, CompPrice, Education, Income, Population, Price,\n",
      "    Sales, ShelveLoc, Urban, US\n",
      "\n",
      "The following objects are masked from Carseats (pos = 4):\n",
      "\n",
      "    Advertising, Age, CompPrice, Education, Income, Population, Price,\n",
      "    Sales, ShelveLoc, Urban, US\n",
      "\n",
      "The following objects are masked from Carseats (pos = 6):\n",
      "\n",
      "    Advertising, Age, CompPrice, Education, Income, Population, Price,\n",
      "    Sales, ShelveLoc, Urban, US\n",
      "\n",
      "Installing package into 'C:/Users/sri-dell/Documents/R/win-library/3.2'\n",
      "(as 'lib' is unspecified)\n"
     ]
    },
    {
     "ename": "ERROR",
     "evalue": "Error in contrib.url(repos, \"source\"): trying to use CRAN without setting a mirror\n",
     "output_type": "error",
     "traceback": [
      "Error in contrib.url(repos, \"source\"): trying to use CRAN without setting a mirror\n"
     ]
    }
   ],
   "source": [
    "### Regression (Subset selection)\n",
    "### Needed package and datasets\n",
    "library(ISLR)\n",
    "attach(Carseats)\n",
    "Carseats=na.omit(Carseats) # Get rid of NAs\n",
    "install.packages(\"leaps\")\n",
    "library(leaps)"
   ]
  },
  {
   "cell_type": "code",
   "execution_count": 15,
   "metadata": {
    "collapsed": false
   },
   "outputs": [
    {
     "data": {
      "text/plain": [
       "Subset selection object\n",
       "Call: regsubsets.formula(Sales ~ ., data = Carseats)\n",
       "11 Variables  (and intercept)\n",
       "                Forced in Forced out\n",
       "CompPrice           FALSE      FALSE\n",
       "Income              FALSE      FALSE\n",
       "Advertising         FALSE      FALSE\n",
       "Population          FALSE      FALSE\n",
       "Price               FALSE      FALSE\n",
       "ShelveLocGood       FALSE      FALSE\n",
       "ShelveLocMedium     FALSE      FALSE\n",
       "Age                 FALSE      FALSE\n",
       "Education           FALSE      FALSE\n",
       "UrbanYes            FALSE      FALSE\n",
       "USYes               FALSE      FALSE\n",
       "1 subsets of each size up to 8\n",
       "Selection Algorithm: exhaustive\n",
       "         CompPrice Income Advertising Population Price ShelveLocGood\n",
       "1  ( 1 ) \" \"       \" \"    \" \"         \" \"        \" \"   \"*\"          \n",
       "2  ( 1 ) \" \"       \" \"    \" \"         \" \"        \"*\"   \"*\"          \n",
       "3  ( 1 ) \"*\"       \" \"    \" \"         \" \"        \"*\"   \"*\"          \n",
       "4  ( 1 ) \"*\"       \" \"    \"*\"         \" \"        \"*\"   \"*\"          \n",
       "5  ( 1 ) \"*\"       \" \"    \"*\"         \" \"        \"*\"   \"*\"          \n",
       "6  ( 1 ) \"*\"       \" \"    \"*\"         \" \"        \"*\"   \"*\"          \n",
       "7  ( 1 ) \"*\"       \"*\"    \"*\"         \" \"        \"*\"   \"*\"          \n",
       "8  ( 1 ) \"*\"       \"*\"    \"*\"         \" \"        \"*\"   \"*\"          \n",
       "         ShelveLocMedium Age Education UrbanYes USYes\n",
       "1  ( 1 ) \" \"             \" \" \" \"       \" \"      \" \"  \n",
       "2  ( 1 ) \" \"             \" \" \" \"       \" \"      \" \"  \n",
       "3  ( 1 ) \" \"             \" \" \" \"       \" \"      \" \"  \n",
       "4  ( 1 ) \" \"             \" \" \" \"       \" \"      \" \"  \n",
       "5  ( 1 ) \"*\"             \" \" \" \"       \" \"      \" \"  \n",
       "6  ( 1 ) \"*\"             \"*\" \" \"       \" \"      \" \"  \n",
       "7  ( 1 ) \"*\"             \"*\" \" \"       \" \"      \" \"  \n",
       "8  ( 1 ) \"*\"             \"*\" \" \"       \" \"      \"*\"  "
      ]
     },
     "execution_count": 15,
     "metadata": {},
     "output_type": "execute_result"
    }
   ],
   "source": [
    "##### Searching all subset models up to size 8 by default\n",
    "regfit.full=regsubsets(Sales~.,data=Carseats)\n",
    "summary(regfit.full)"
   ]
  },
  {
   "cell_type": "code",
   "execution_count": null,
   "metadata": {
    "collapsed": false
   },
   "outputs": [],
   "source": [
    "##### Searching all subset models up to size number of variables\n",
    "regfit.full=regsubsets (Sales~.,data=Carseats ,nvmax=11) \n",
    "reg.summary =summary (regfit.full)\n",
    "names(reg.summary)\n",
    "reg.summary$rss\n",
    "reg.summary$adjr2"
   ]
  },
  {
   "cell_type": "code",
   "execution_count": null,
   "metadata": {
    "collapsed": false
   },
   "outputs": [],
   "source": [
    "## Plotting and choosing the subset\n",
    "par(mfrow=c(2,2)) \n",
    "plot(reg.summary$rss ,xlab=\"Number of Variables \",ylab=\"RSS\", type=\"l\") \n",
    "plot(reg.summary$adjr2 ,xlab=\"Number of Variables \", ylab=\"Adjusted RSq\",type=\"l\")\n",
    "coef(regfit.full ,6)"
   ]
  },
  {
   "cell_type": "code",
   "execution_count": null,
   "metadata": {
    "collapsed": false
   },
   "outputs": [],
   "source": [
    "#### Forward selection\n",
    "regfit.fwd=regsubsets(Sales~.,data=Carseats ,nvmax=11, method=\"forward\") \n",
    "F=summary(regfit.fwd)\n",
    "names(F)\n",
    "F\n",
    "F$rss\n",
    "F$adjr2\n",
    "coef(regfit.fwd,6)"
   ]
  },
  {
   "cell_type": "code",
   "execution_count": null,
   "metadata": {
    "collapsed": false
   },
   "outputs": [],
   "source": [
    "#### Backward selection\n",
    "regfit.bwd=regsubsets(Sales~.,data=Carseats ,nvmax=11, method=\"backward\") \n",
    "B=summary(regfit.bwd)\n",
    "names(B)\n",
    "B\n",
    "B$rss\n",
    "B$adjr2\n",
    "coef(regfit.bwd,6)"
   ]
  },
  {
   "cell_type": "code",
   "execution_count": null,
   "metadata": {
    "collapsed": true
   },
   "outputs": [],
   "source": []
  }
 ],
 "metadata": {
  "kernelspec": {
   "display_name": "R",
   "language": "R",
   "name": "ir"
  },
  "language_info": {
   "codemirror_mode": "r",
   "file_extension": ".r",
   "mimetype": "text/x-r-source",
   "name": "R",
   "pygments_lexer": "r",
   "version": "3.2.4"
  }
 },
 "nbformat": 4,
 "nbformat_minor": 0
}
