{
 "cells": [
  {
   "cell_type": "code",
   "execution_count": null,
   "metadata": {
    "collapsed": true
   },
   "outputs": [],
   "source": [
    "### Regression (Subset selection)\n",
    "### Needed package and datasets\n",
    "library(ISLR)\n",
    "attach(Carseats)\n",
    "Carseats=na.omit(Carseats) # Get rid of NAs\n",
    "install.packages(\"leaps\")\n",
    "library(leaps)"
   ]
  },
  {
   "cell_type": "code",
   "execution_count": null,
   "metadata": {
    "collapsed": true
   },
   "outputs": [],
   "source": [
    "##### Searching all subset models up to size 8 by default\n",
    "regfit.full=regsubsets(Sales~.,data=Carseats)\n",
    "summary(regfit.full)"
   ]
  },
  {
   "cell_type": "code",
   "execution_count": null,
   "metadata": {
    "collapsed": true
   },
   "outputs": [],
   "source": [
    "##### Searching all subset models up to size number of variables\n",
    "regfit.full=regsubsets (Sales~.,data=Carseats ,nvmax=11) \n",
    "reg.summary =summary (regfit.full)\n",
    "names(reg.summary)\n",
    "reg.summary$rss\n",
    "reg.summary$adjr2"
   ]
  },
  {
   "cell_type": "code",
   "execution_count": null,
   "metadata": {
    "collapsed": true
   },
   "outputs": [],
   "source": [
    "## Plotting and choosing the subset\n",
    "par(mfrow=c(2,2)) \n",
    "plot(reg.summary$rss ,xlab=\"Number of Variables \",ylab=\"RSS\", type=\"l\") \n",
    "plot(reg.summary$adjr2 ,xlab=\"Number of Variables \", ylab=\"Adjusted RSq\",type=\"l\")\n",
    "coef(regfit.full ,6)"
   ]
  },
  {
   "cell_type": "code",
   "execution_count": null,
   "metadata": {
    "collapsed": true
   },
   "outputs": [],
   "source": [
    "#### Forward selection\n",
    "regfit.fwd=regsubsets(Sales~.,data=Carseats ,nvmax=11, method=\"forward\") \n",
    "F=summary(regfit.fwd)\n",
    "names(F)\n",
    "F\n",
    "F$rss\n",
    "F$adjr2\n",
    "coef(regfit.fwd,6)"
   ]
  },
  {
   "cell_type": "code",
   "execution_count": null,
   "metadata": {
    "collapsed": true
   },
   "outputs": [],
   "source": [
    "#### Backward selection\n",
    "regfit.bwd=regsubsets(Sales~.,data=Carseats ,nvmax=11, method=\"backward\") \n",
    "B=summary(regfit.bwd)\n",
    "names(B)\n",
    "B\n",
    "B$rss\n",
    "B$adjr2\n",
    "coef(regfit.bwd,6)"
   ]
  }
 ],
 "metadata": {
  "kernelspec": {
   "display_name": "R",
   "language": "R",
   "name": "ir"
  },
  "language_info": {
   "codemirror_mode": "r",
   "file_extension": ".r",
   "mimetype": "text/x-r-source",
   "name": "R",
   "pygments_lexer": "r",
   "version": "3.2.4"
  }
 },
 "nbformat": 4,
 "nbformat_minor": 0
}
